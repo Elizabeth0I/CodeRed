{
 "cells": [
  {
   "cell_type": "code",
   "execution_count": null,
   "id": "cfbeecec-30ee-45ea-b330-4f18639b2cab",
   "metadata": {},
   "outputs": [],
   "source": [
    "def count_words(file_path):\n",
    "    try:\n",
    "        with open(file_path, 'r') as file:\n",
    "            content = file.read()\n",
    "            word_count = len(content.split())\n",
    "            return word_count\n",
    "    except FileNotFoundError:\n",
    "        print(\"File not found.\")\n",
    "        return -1\n",
    "\n",
    "def main():\n",
    "    file_path = input(\"Enter the path to the text file: \")\n",
    "    word_count = count_words(file_path)\n",
    "    if word_count != -1:\n",
    "        print(\"Number of words in the file:\", word_count)\n",
    "\n",
    "if __name__ == \"__main__\":\n",
    "    main()\n"
   ]
  },
  {
   "cell_type": "code",
   "execution_count": null,
   "id": "ef89b57d-a717-467c-ba93-614674ac957d",
   "metadata": {},
   "outputs": [],
   "source": []
  }
 ],
 "metadata": {
  "kernelspec": {
   "display_name": "Python 3 (ipykernel)",
   "language": "python",
   "name": "python3"
  },
  "language_info": {
   "codemirror_mode": {
    "name": "ipython",
    "version": 3
   },
   "file_extension": ".py",
   "mimetype": "text/x-python",
   "name": "python",
   "nbconvert_exporter": "python",
   "pygments_lexer": "ipython3",
   "version": "3.12.0"
  }
 },
 "nbformat": 4,
 "nbformat_minor": 5
}
