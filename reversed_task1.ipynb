{
 "cells": [
  {
   "cell_type": "code",
   "execution_count": 2,
   "id": "548a3167-8c1d-4803-810a-8b847ecbe89f",
   "metadata": {},
   "outputs": [
    {
     "name": "stdin",
     "output_type": "stream",
     "text": [
      "Enter a string:  May the force be with you\n"
     ]
    },
    {
     "name": "stdout",
     "output_type": "stream",
     "text": [
      "Reversed string: uoy htiw eb ecrof eht yaM\n"
     ]
    }
   ],
   "source": [
    "# Get input from the user\n",
    "string_input = input(\"Enter a string: \")\n",
    "\n",
    "# Reverse the input string using slicing\n",
    "reversed_string = string_input[::-1]\n",
    "\n",
    "# Print the reversed string\n",
    "print(\"Reversed string:\", reversed_string)\n"
   ]
  },
  {
   "cell_type": "code",
   "execution_count": null,
   "id": "159a1bd3-8f67-4a86-b94d-e7d16351c479",
   "metadata": {},
   "outputs": [],
   "source": []
  }
 ],
 "metadata": {
  "kernelspec": {
   "display_name": "Python 3 (ipykernel)",
   "language": "python",
   "name": "python3"
  },
  "language_info": {
   "codemirror_mode": {
    "name": "ipython",
    "version": 3
   },
   "file_extension": ".py",
   "mimetype": "text/x-python",
   "name": "python",
   "nbconvert_exporter": "python",
   "pygments_lexer": "ipython3",
   "version": "3.12.0"
  }
 },
 "nbformat": 4,
 "nbformat_minor": 5
}
