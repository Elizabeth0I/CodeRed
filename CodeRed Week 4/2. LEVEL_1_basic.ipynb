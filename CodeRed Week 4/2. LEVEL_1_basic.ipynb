{
 "cells": [
  {
   "cell_type": "code",
   "execution_count": 1,
   "id": "f5ecfa06-869d-43c0-8bad-92de6ab4b0f7",
   "metadata": {},
   "outputs": [
    {
     "name": "stdout",
     "output_type": "stream",
     "text": [
      "Salaries greater than mean salary: 11850.0\n",
      "name: Beata - salary: 12000\n",
      "name: Peter - salary: 15100\n",
      "name: Mateusz - salary: 18000\n",
      "name: Agata - salary: 16400\n"
     ]
    }
   ],
   "source": [
    "def find_salaries_above_mean(dictionary):\n",
    "    mean_salary = sum(dictionary.values()) / len(dictionary)\n",
    "    print(\"Salaries greater than mean salary:\", mean_salary)\n",
    "    for name, salary in dictionary.items():\n",
    "        if salary > mean_salary:\n",
    "            print(\"name:\", name, \"- salary:\", salary)\n",
    "\n",
    "# Test the mean\n",
    "name_to_salary_dictionary = {\n",
    "    'Adam': 10000,\n",
    "    'Beata': 12000,\n",
    "    'Jarek': 7000,\n",
    "    'Agnieszka': 8500,\n",
    "    'Marek': 11200,\n",
    "    'Here': 9300,\n",
    "    'Peter': 15100,\n",
    "    'Mateusz': 18000,\n",
    "    'Agata': 16400,\n",
    "    'Marian': 11000\n",
    "}\n",
    "\n",
    "find_salaries_above_mean(name_to_salary_dictionary)"
   ]
  },
  {
   "cell_type": "code",
   "execution_count": null,
   "id": "79bc56f4-9a5c-4165-9dbf-bc76f59735db",
   "metadata": {},
   "outputs": [],
   "source": []
  }
 ],
 "metadata": {
  "kernelspec": {
   "display_name": "Python 3 (ipykernel)",
   "language": "python",
   "name": "python3"
  },
  "language_info": {
   "codemirror_mode": {
    "name": "ipython",
    "version": 3
   },
   "file_extension": ".py",
   "mimetype": "text/x-python",
   "name": "python",
   "nbconvert_exporter": "python",
   "pygments_lexer": "ipython3",
   "version": "3.12.0"
  }
 },
 "nbformat": 4,
 "nbformat_minor": 5
}
