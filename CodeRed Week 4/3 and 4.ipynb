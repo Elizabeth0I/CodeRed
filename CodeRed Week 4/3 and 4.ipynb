{
 "cells": [
  {
   "cell_type": "code",
   "execution_count": 1,
   "id": "64b80c48-2458-4e8b-b5b3-6210b509e262",
   "metadata": {},
   "outputs": [
    {
     "name": "stdout",
     "output_type": "stream",
     "text": [
      "In department: Management working now 4 persons: ['Adam', 'Beata', 'Piotr', 'Agata']\n"
     ]
    }
   ],
   "source": [
    "employees = [\n",
    "    {'Id': 1, 'Name': 'Adam', 'Department': 'Management', 'Salary': 10000},\n",
    "    {'Id': 2, 'Name': 'Beata', 'Department': 'Management', 'Salary': 12000},\n",
    "    {'Id': 3, 'Name': 'Jarek', 'Department': 'Kitchen', 'Salary': 7000},\n",
    "    {'Id': 4, 'Name': 'Agnieszka', 'Department': 'House Floor', 'Salary': 8500},\n",
    "    {'Id': 5, 'Name': 'Marek', 'Department': 'House Floor', 'Salary': 11200},\n",
    "    {'Id': 6, 'Name': 'Ania', 'Department': 'Kitchen', 'Salary': 9300},\n",
    "    {'Id': 7, 'Name': 'Piotr', 'Department': 'Management', 'Salary': 15100},\n",
    "    {'Id': 8, 'Name': 'Mateusz', 'Department': 'Cashier', 'Salary': 18000},\n",
    "    {'Id': 9, 'Name': 'Agata', 'Department': 'Management', 'Salary': 16400},\n",
    "    {'Id': 10, 'Name': 'Marian', 'Department': 'Cashier', 'Salary': 11000},\n",
    "]\n",
    "\n",
    "management_employees = [employee['Name'] for employee in employees if employee['Department'] == 'Management']\n",
    "num_management_employees = len(management_employees)\n",
    "\n",
    "print(f\"In department: Management working now {num_management_employees} persons: {management_employees}\")"
   ]
  },
  {
   "cell_type": "code",
   "execution_count": 3,
   "id": "efeee49a-0dcd-4154-be25-09c79e10ce8a",
   "metadata": {},
   "outputs": [
    {
     "name": "stdout",
     "output_type": "stream",
     "text": [
      "[{1: 'A'}, {2: 'B'}, {3: 'J'}, {4: 'A'}, {5: 'M'}, {6: 'A'}, {7: 'P'}, {8: 'M'}, {9: 'A'}, {10: 'M'}]\n"
     ]
    }
   ],
   "source": [
    "#4.LEVEL_2_medium\n",
    "#Write program that maps employee id to first letter of name, technically means returns a dictionary, where:\n",
    "#key - an employee's id,\n",
    "#value - first letter of name\n",
    "\n",
    "id_to_first_letter = {employee['Id']: employee['Name'][0] for employee in employees}\n",
    "\n",
    "result = [{key: value} for key, value in id_to_first_letter.items()]\n",
    "\n",
    "print(result)"
   ]
  },
  {
   "cell_type": "code",
   "execution_count": null,
   "id": "ddfdf670-88fd-413e-bcb2-f4dab7e66b22",
   "metadata": {},
   "outputs": [],
   "source": []
  }
 ],
 "metadata": {
  "kernelspec": {
   "display_name": "Python 3 (ipykernel)",
   "language": "python",
   "name": "python3"
  },
  "language_info": {
   "codemirror_mode": {
    "name": "ipython",
    "version": 3
   },
   "file_extension": ".py",
   "mimetype": "text/x-python",
   "name": "python",
   "nbconvert_exporter": "python",
   "pygments_lexer": "ipython3",
   "version": "3.12.0"
  }
 },
 "nbformat": 4,
 "nbformat_minor": 5
}
