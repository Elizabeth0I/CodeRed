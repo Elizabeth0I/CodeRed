{
 "cells": [
  {
   "cell_type": "code",
   "execution_count": 1,
   "id": "6fb94be0-9163-4b5d-bcb7-2627758d8dfd",
   "metadata": {},
   "outputs": [],
   "source": [
    "import os"
   ]
  },
  {
   "cell_type": "code",
   "execution_count": 11,
   "id": "1b1a8af7-e71d-4396-9733-6a589ef7a275",
   "metadata": {},
   "outputs": [
    {
     "name": "stdout",
     "output_type": "stream",
     "text": [
      "        Name  Salary  Duration of employment in years\n",
      "0       Adam   10000                                4\n",
      "1      Beata   12000                                5\n",
      "2      Jarek    7000                                5\n",
      "3  Agnieszka    8500                                4\n",
      "4      Marek   11200                                4\n",
      "5       Ania    9300                                6\n",
      "6      Piotr   15100                                1\n",
      "7    Mateusz   18000                                6\n",
      "8      Agata   16400                                4\n",
      "9     Marian   11000                               10\n"
     ]
    }
   ],
   "source": [
    "import pandas as pd\n",
    "csv_data = pd.read_csv('/Users/elizabeth/Downloads/5_input.csv')\n",
    "print(csv_data)"
   ]
  },
  {
   "cell_type": "code",
   "execution_count": 12,
   "id": "94a9ab5e-061f-405d-af71-35e214b9f391",
   "metadata": {},
   "outputs": [
    {
     "name": "stdin",
     "output_type": "stream",
     "text": [
      "Enter the name of the CSV file:  /Users/elizabeth/Downloads/5_input.csv\n"
     ]
    },
    {
     "name": "stdout",
     "output_type": "stream",
     "text": [
      "name: Beata - compensation: 5000.0\n",
      "name: Jarek - compensation: 5000.0\n",
      "name: Ania - compensation: 6000.0\n",
      "name: Mateusz - compensation: 6000.0\n",
      "name: Marian - compensation: 10000.0\n"
     ]
    }
   ],
   "source": [
    "def calculate_compensation(salary, duration):\n",
    "    if duration >= 5:\n",
    "        return duration * 1000\n",
    "    else:\n",
    "        return 0\n",
    "def read_csv_and_calculate_compensation(filename):\n",
    "    with open(filename, newline='') as csvfile:\n",
    "        reader = csv.reader(csvfile)\n",
    "        next(reader)  # Skip header row\n",
    "        for row in reader:\n",
    "            name = row[0]\n",
    "            salary = float(row[1])\n",
    "            duration = float(row[2])\n",
    "            compensation = calculate_compensation(salary, duration)\n",
    "            if compensation > 0:\n",
    "                print(f\"name: {name} - compensation: {compensation}\")\n",
    "\n",
    "# Test the function\n",
    "file_name = input(\"Enter the name of the CSV file: \")\n",
    "read_csv_and_calculate_compensation(file_name)"
   ]
  },
  {
   "cell_type": "code",
   "execution_count": null,
   "id": "67adbb25-4018-44d8-88bc-f09be29a33f0",
   "metadata": {},
   "outputs": [],
   "source": []
  },
  {
   "cell_type": "code",
   "execution_count": null,
   "id": "b154780a-803a-4d76-9899-4a148d3ec6fe",
   "metadata": {},
   "outputs": [],
   "source": []
  }
 ],
 "metadata": {
  "kernelspec": {
   "display_name": "Python 3 (ipykernel)",
   "language": "python",
   "name": "python3"
  },
  "language_info": {
   "codemirror_mode": {
    "name": "ipython",
    "version": 3
   },
   "file_extension": ".py",
   "mimetype": "text/x-python",
   "name": "python",
   "nbconvert_exporter": "python",
   "pygments_lexer": "ipython3",
   "version": "3.12.0"
  }
 },
 "nbformat": 4,
 "nbformat_minor": 5
}
