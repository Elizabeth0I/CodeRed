{
 "cells": [
  {
   "cell_type": "code",
   "execution_count": 4,
   "id": "3210f2ea-a9b3-4eb8-bbc4-e15d505f67ea",
   "metadata": {},
   "outputs": [
    {
     "name": "stdout",
     "output_type": "stream",
     "text": [
      "[18000, 16400, 15100]\n"
     ]
    }
   ],
   "source": [
    "def max_3_salaries(salaries):\n",
    "    sorted_salaries = sorted(salaries, reverse=True)\n",
    "    max_3 = sorted_salaries[:3]\n",
    "    return max_3\n",
    "\n",
    "# Testing the program\n",
    "salaries = [10000, 12000, 7000, 8500, 11200, 9300, 15100, 18000, 16400, 11000]\n",
    "result = max_3_salaries(salaries)\n",
    "print(result)"
   ]
  },
  {
   "cell_type": "code",
   "execution_count": null,
   "id": "5e6c4a84-38bf-4184-b4f8-2629f2e89d4f",
   "metadata": {},
   "outputs": [],
   "source": []
  }
 ],
 "metadata": {
  "kernelspec": {
   "display_name": "Python 3 (ipykernel)",
   "language": "python",
   "name": "python3"
  },
  "language_info": {
   "codemirror_mode": {
    "name": "ipython",
    "version": 3
   },
   "file_extension": ".py",
   "mimetype": "text/x-python",
   "name": "python",
   "nbconvert_exporter": "python",
   "pygments_lexer": "ipython3",
   "version": "3.12.0"
  }
 },
 "nbformat": 4,
 "nbformat_minor": 5
}
