{
 "cells": [
  {
   "cell_type": "code",
   "execution_count": 12,
   "id": "1d1c9941-c072-4e2c-92df-4e50dabec97e",
   "metadata": {},
   "outputs": [
    {
     "name": "stdout",
     "output_type": "stream",
     "text": [
      "4\n",
      "2\n",
      "0\n",
      "3\n",
      "5\n",
      "0\n",
      "0\n",
      "2\n"
     ]
    }
   ],
   "source": [
    "def count_vowels(word):\n",
    "    vowels = {'a', 'e', 'i', 'o', 'u'}\n",
    "    count = 0\n",
    "    for char in word:\n",
    "        if char in vowels:\n",
    "            count += 1\n",
    "    return count\n",
    "\n",
    "#Print Function\n",
    "print(count_vowels('inception'))\n",
    "print(count_vowels('matrix'))\n",
    "print(count_vowels('crypt'))\n",
    "print(count_vowels('vannessa'))\n",
    "print(count_vowels('Equilibrium'))\n",
    "print(count_vowels('Syzygy'))\n",
    "print(count_vowels('gypsy'))\n",
    "print(count_vowels('vowels'))"
   ]
  },
  {
   "cell_type": "code",
   "execution_count": 4,
   "id": "764ba5c6-7dac-4d1b-ab22-729f4f6873f0",
   "metadata": {},
   "outputs": [
    {
     "name": "stdout",
     "output_type": "stream",
     "text": [
      "{'u': 0, 'o': 1, 'a': 0, 'i': 2, 'e': 1}\n"
     ]
    }
   ],
   "source": [
    "def count_vowels(word):\n",
    "    vowels = {'a', 'e', 'i', 'o', 'u'}\n",
    "    vowel_counts = {vowel: 0 for vowel in vowels}\n",
    "    for char in word:\n",
    "        if char in vowels:\n",
    "            vowel_counts[char.lower()] += 1\n",
    "    return vowel_counts\n",
    "\n",
    "\n",
    "word = \"inception\"\n",
    "result = count_vowels(word)\n",
    "print(result)"
   ]
  },
  {
   "cell_type": "code",
   "execution_count": null,
   "id": "42733ec9-fae8-4174-b11e-cb5dc8ac8c61",
   "metadata": {},
   "outputs": [],
   "source": []
  }
 ],
 "metadata": {
  "kernelspec": {
   "display_name": "Python 3 (ipykernel)",
   "language": "python",
   "name": "python3"
  },
  "language_info": {
   "codemirror_mode": {
    "name": "ipython",
    "version": 3
   },
   "file_extension": ".py",
   "mimetype": "text/x-python",
   "name": "python",
   "nbconvert_exporter": "python",
   "pygments_lexer": "ipython3",
   "version": "3.12.0"
  }
 },
 "nbformat": 4,
 "nbformat_minor": 5
}
