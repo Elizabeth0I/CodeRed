{
 "cells": [
  {
   "cell_type": "code",
   "execution_count": 2,
   "id": "1cc0de99-ed12-4fa6-a90f-a6e212bad0c5",
   "metadata": {},
   "outputs": [
    {
     "name": "stdout",
     "output_type": "stream",
     "text": [
      "True\n",
      "True\n",
      "True\n"
     ]
    }
   ],
   "source": [
    "def has_duplicate_letters(sentence):\n",
    "    words = sentence.split()\n",
    "    \n",
    "    for word in words:\n",
    "        if len(set(word)) < len(word):\n",
    "            return True\n",
    "    \n",
    "    return False\n",
    "\n",
    "print(has_duplicate_letters(\"Sayonara mi amor\"))  \n",
    "print(has_duplicate_letters(\"To visit is to sit\"))            \n",
    "print(has_duplicate_letters(\"fluff and floss are not the same\"))             "
   ]
  },
  {
   "cell_type": "code",
   "execution_count": null,
   "id": "3d4d5493-77b7-4fa2-8971-bceab3ace4ba",
   "metadata": {},
   "outputs": [],
   "source": []
  }
 ],
 "metadata": {
  "kernelspec": {
   "display_name": "Python 3 (ipykernel)",
   "language": "python",
   "name": "python3"
  },
  "language_info": {
   "codemirror_mode": {
    "name": "ipython",
    "version": 3
   },
   "file_extension": ".py",
   "mimetype": "text/x-python",
   "name": "python",
   "nbconvert_exporter": "python",
   "pygments_lexer": "ipython3",
   "version": "3.12.0"
  }
 },
 "nbformat": 4,
 "nbformat_minor": 5
}
