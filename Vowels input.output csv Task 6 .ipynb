{
 "cells": [
  {
   "cell_type": "code",
   "execution_count": 2,
   "id": "f66ca7ea-3733-4bb3-96c8-f58269a54c59",
   "metadata": {},
   "outputs": [],
   "source": [
    "import os\n"
   ]
  },
  {
   "cell_type": "code",
   "execution_count": 4,
   "id": "cb059c1d-f08d-4f86-a8c6-98f215dd50ad",
   "metadata": {},
   "outputs": [],
   "source": [
    "import csv\n",
    "\n",
    "def count_vowels_in_csv(input_file, output_file):\n",
    "    def count_vowels(word):\n",
    "        vowels = {'a', 'e', 'i', 'o', 'u'}\n",
    "        vowel_counts = {vowel: 0 for vowel in vowels}\n",
    "        for char in word:\n",
    "            if char in vowels:\n",
    "                vowel_counts[char.lower()] += 1\n",
    "        return vowel_counts\n",
    "    \n",
    "    with open(input_file, 'r') as csv_file:\n",
    "        reader = csv.reader(csv_file)\n",
    "        next(reader)  \n",
    "        results = {}\n",
    "        for row in reader:\n",
    "            word = row[0]\n",
    "            results[word] = count_vowels(word)\n",
    "    \n",
    "    with open(output_file, 'w') as txt_file:\n",
    "        for word, vowel_counts in results.items():\n",
    "            txt_file.write(f\"{word} : {vowel_counts}\\n\")\n",
    "\n",
    "#print\n",
    "input_file = \"/Users/elizabeth/Downloads/inputs.csv\"\n",
    "output_file = \"/Users/elizabeth/Downloads/output.txt\"\n",
    "count_vowels_in_csv(input_file, output_file)\n"
   ]
  },
  {
   "cell_type": "code",
   "execution_count": null,
   "id": "b6c6284c-b67b-4a17-9888-b6c2299b4957",
   "metadata": {},
   "outputs": [],
   "source": []
  }
 ],
 "metadata": {
  "kernelspec": {
   "display_name": "Python 3 (ipykernel)",
   "language": "python",
   "name": "python3"
  },
  "language_info": {
   "codemirror_mode": {
    "name": "ipython",
    "version": 3
   },
   "file_extension": ".py",
   "mimetype": "text/x-python",
   "name": "python",
   "nbconvert_exporter": "python",
   "pygments_lexer": "ipython3",
   "version": "3.12.0"
  }
 },
 "nbformat": 4,
 "nbformat_minor": 5
}
