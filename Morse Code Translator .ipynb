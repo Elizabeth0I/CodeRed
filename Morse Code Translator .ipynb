{
 "cells": [
  {
   "cell_type": "code",
   "execution_count": 12,
   "id": "b2ce0f02-3ef8-469e-afb9-89cdf789ad38",
   "metadata": {},
   "outputs": [
    {
     "name": "stdout",
     "output_type": "stream",
     "text": [
      ".--. .-. .- -.-. - .. -.-. . / -. ..- -- -... . .-. / ... .. -..-\n"
     ]
    }
   ],
   "source": [
    "def text_to_morse_code(text):\n",
    "    # Morse code dictionary\n",
    "    morse_dict = {\n",
    "        'A': '.-', 'B': '-...', 'C': '-.-.', 'D': '-..', 'E': '.', 'F': '..-.', 'G': '--.', 'H': '....',\n",
    "        'I': '..', 'J': '.---', 'K': '-.-', 'L': '.-..', 'M': '--', 'N': '-.', 'O': '---', 'P': '.--.',\n",
    "        'Q': '--.-', 'R': '.-.', 'S': '...', 'T': '-', 'U': '..-', 'V': '...-', 'W': '.--', 'X': '-..-',\n",
    "        'Y': '-.--', 'Z': '--..',\n",
    "        '0': '-----', '1': '.----', '2': '..---', '3': '...--', '4': '....-', '5': '.....', '6': '-....',\n",
    "        '7': '--...', '8': '---..', '9': '----.',\n",
    "        '.': '.-.-.-', ',': '--..--', '?': '..--..', \"'\": '.----.', '!': '-.-.--', '/': '-..-.', '(': '-.--.',\n",
    "        ')': '-.--.-', '&': '.-...', ':': '---...', ';': '-.-.-.', '=': '-...-', '+': '.-.-.', '-': '-....-',\n",
    "        '_': '..--.-', '\"': '.-..-.', '$': '...-..-', '@': '.--.-.', ' ': '/'\n",
    "    }\n",
    "    \n",
    "    # define text\n",
    "    text = text.upper()\n",
    "    \n",
    "    # Change text to Morse code\n",
    "    morse_code = ''\n",
    "    for char in text:\n",
    "        if char in morse_dict:\n",
    "            morse_code += morse_dict[char] + ' '\n",
    "        else:\n",
    "            morse_code += char\n",
    "    \n",
    "    return morse_code.strip()\n",
    "\n",
    "# Result\n",
    "input_text = \"Attempt number six\"\n",
    "encoded_text = text_to_morse_code(input_text)\n",
    "print(encoded_text)\n"
   ]
  },
  {
   "cell_type": "code",
   "execution_count": null,
   "id": "524919df-f0b0-4e59-82da-f2e38fd9925f",
   "metadata": {},
   "outputs": [],
   "source": []
  }
 ],
 "metadata": {
  "kernelspec": {
   "display_name": "Python 3 (ipykernel)",
   "language": "python",
   "name": "python3"
  },
  "language_info": {
   "codemirror_mode": {
    "name": "ipython",
    "version": 3
   },
   "file_extension": ".py",
   "mimetype": "text/x-python",
   "name": "python",
   "nbconvert_exporter": "python",
   "pygments_lexer": "ipython3",
   "version": "3.12.0"
  }
 },
 "nbformat": 4,
 "nbformat_minor": 5
}
