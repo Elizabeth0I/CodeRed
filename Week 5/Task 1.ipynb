{
 "cells": [
  {
   "cell_type": "code",
   "execution_count": 1,
   "id": "4b9f0fe2-7706-46cb-8697-934866f058ef",
   "metadata": {},
   "outputs": [
    {
     "name": "stdin",
     "output_type": "stream",
     "text": [
      "Provide the length of side a:  1\n",
      "Provide the length of side b:  2\n",
      "Provide the length of side c:  4\n"
     ]
    },
    {
     "name": "stdout",
     "output_type": "stream",
     "text": [
      "Can't form a triangle.\n"
     ]
    }
   ],
   "source": [
    "def is_triangle(a, b, c):\n",
    "    if a + b > c and a + c > b and b + c > a:\n",
    "        return True\n",
    "    else:\n",
    "        return False\n",
    "\n",
    "def main():\n",
    "    try:\n",
    "        a = float(input(\"Provide the length of side a: \"))\n",
    "        b = float(input(\"Provide the length of side b: \"))\n",
    "        c = float(input(\"Provide the length of side c: \"))\n",
    "        if is_triangle(a, b, c):\n",
    "            print(\"Can form a triangle.\")\n",
    "        else:\n",
    "            print(\"Can't form a triangle.\")\n",
    "    except ValueError:\n",
    "        print(\"Invalid input. Please enter numeric values.\")\n",
    "\n",
    "if __name__ == \"__main__\":\n",
    "    main()"
   ]
  },
  {
   "cell_type": "code",
   "execution_count": null,
   "id": "421420a8-30ad-4ed6-b242-3daad6cd5ea1",
   "metadata": {},
   "outputs": [],
   "source": []
  }
 ],
 "metadata": {
  "kernelspec": {
   "display_name": "Python 3 (ipykernel)",
   "language": "python",
   "name": "python3"
  },
  "language_info": {
   "codemirror_mode": {
    "name": "ipython",
    "version": 3
   },
   "file_extension": ".py",
   "mimetype": "text/x-python",
   "name": "python",
   "nbconvert_exporter": "python",
   "pygments_lexer": "ipython3",
   "version": "3.12.0"
  }
 },
 "nbformat": 4,
 "nbformat_minor": 5
}
