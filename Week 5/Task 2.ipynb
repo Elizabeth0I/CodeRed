{
 "cells": [
  {
   "cell_type": "code",
   "execution_count": 1,
   "id": "66a563a5-2840-4bb8-b2dd-869b19c5e8e9",
   "metadata": {},
   "outputs": [
    {
     "name": "stdin",
     "output_type": "stream",
     "text": [
      "Enter your pin code (4 or 6 digits):  12345\n"
     ]
    },
    {
     "name": "stdout",
     "output_type": "stream",
     "text": [
      "Invalid pin code. Please enter 4 or 6 digits with no consecutive repeating numbers.\n"
     ]
    },
    {
     "name": "stdin",
     "output_type": "stream",
     "text": [
      "Enter your pin code (4 or 6 digits):  123456\n",
      "Confirm your pin code:  123456\n"
     ]
    },
    {
     "name": "stdout",
     "output_type": "stream",
     "text": [
      "Pin codes match. Pin code successfully validated.\n"
     ]
    }
   ],
   "source": [
    "def is_valid_pin(pin):\n",
    "    # Check if pin consists only of digits and is either 4 or 6 digits long and repeating numbers\n",
    "    if pin.isdigit() and (len(pin) == 4 or len(pin) == 6):\n",
    "        for i in range(len(pin) - 1):\n",
    "            if pin[i] == pin[i + 1]:\n",
    "                return False\n",
    "        return True\n",
    "    else:\n",
    "        return False\n",
    "\n",
    "def pin_code_validator():\n",
    "    # Get the first pin code from the user\n",
    "    while True:\n",
    "        pin1 = input(\"Enter your pin code (4 or 6 digits): \")\n",
    "        if is_valid_pin(pin1):\n",
    "            break\n",
    "        else:\n",
    "            print(\"Invalid pin code. Please enter 4 or 6 digits with no consecutive repeating numbers.\")\n",
    "    \n",
    "    # Get the confirmation pin code from the user\n",
    "    while True:\n",
    "        pin2 = input(\"Confirm your pin code: \")\n",
    "        if pin1 == pin2:\n",
    "            print(\"Pin codes match. Pin code successfully validated.\")\n",
    "            break\n",
    "        else:\n",
    "            print(\"Pin codes do not match. Please try again.\")\n",
    "\n",
    "if __name__ == \"__main__\":\n",
    "    pin_code_validator()"
   ]
  },
  {
   "cell_type": "code",
   "execution_count": null,
   "id": "c763aab4-1c12-4631-8e51-5921e43d68d9",
   "metadata": {},
   "outputs": [],
   "source": []
  }
 ],
 "metadata": {
  "kernelspec": {
   "display_name": "Python 3 (ipykernel)",
   "language": "python",
   "name": "python3"
  },
  "language_info": {
   "codemirror_mode": {
    "name": "ipython",
    "version": 3
   },
   "file_extension": ".py",
   "mimetype": "text/x-python",
   "name": "python",
   "nbconvert_exporter": "python",
   "pygments_lexer": "ipython3",
   "version": "3.12.0"
  }
 },
 "nbformat": 4,
 "nbformat_minor": 5
}
