{
 "cells": [
  {
   "cell_type": "code",
   "execution_count": 1,
   "id": "a2b2b625-93cc-4d6c-9985-bf9cc502fb50",
   "metadata": {},
   "outputs": [
    {
     "name": "stdout",
     "output_type": "stream",
     "text": [
      "Let's play Paper, Scissors, Rock!\n",
      "Choose one: (1) Paper, (2) Scissors, (3) Rock\n"
     ]
    },
    {
     "name": "stdin",
     "output_type": "stream",
     "text": [
      "Enter your choice (1/2/3):  3\n"
     ]
    },
    {
     "name": "stdout",
     "output_type": "stream",
     "text": [
      "Computer wins this round!\n",
      "Your score: 0, Computer's score: 1\n",
      "\n",
      "Let's play Paper, Scissors, Rock!\n",
      "Choose one: (1) Paper, (2) Scissors, (3) Rock\n"
     ]
    },
    {
     "name": "stdin",
     "output_type": "stream",
     "text": [
      "Enter your choice (1/2/3):  3\n"
     ]
    },
    {
     "name": "stdout",
     "output_type": "stream",
     "text": [
      "You win this round!\n",
      "Your score: 1, Computer's score: 1\n",
      "\n",
      "Let's play Paper, Scissors, Rock!\n",
      "Choose one: (1) Paper, (2) Scissors, (3) Rock\n"
     ]
    },
    {
     "name": "stdin",
     "output_type": "stream",
     "text": [
      "Enter your choice (1/2/3):  1\n"
     ]
    },
    {
     "name": "stdout",
     "output_type": "stream",
     "text": [
      "Computer wins this round!\n",
      "Your score: 1, Computer's score: 2\n",
      "\n",
      "Let's play Paper, Scissors, Rock!\n",
      "Choose one: (1) Paper, (2) Scissors, (3) Rock\n"
     ]
    },
    {
     "name": "stdin",
     "output_type": "stream",
     "text": [
      "Enter your choice (1/2/3):  1\n"
     ]
    },
    {
     "name": "stdout",
     "output_type": "stream",
     "text": [
      "It's a tie!\n",
      "Your score: 1, Computer's score: 2\n",
      "\n",
      "Let's play Paper, Scissors, Rock!\n",
      "Choose one: (1) Paper, (2) Scissors, (3) Rock\n"
     ]
    },
    {
     "name": "stdin",
     "output_type": "stream",
     "text": [
      "Enter your choice (1/2/3):  2\n"
     ]
    },
    {
     "name": "stdout",
     "output_type": "stream",
     "text": [
      "You win this round!\n",
      "Your score: 2, Computer's score: 2\n",
      "\n",
      "Let's play Paper, Scissors, Rock!\n",
      "Choose one: (1) Paper, (2) Scissors, (3) Rock\n"
     ]
    },
    {
     "name": "stdin",
     "output_type": "stream",
     "text": [
      "Enter your choice (1/2/3):  3\n"
     ]
    },
    {
     "name": "stdout",
     "output_type": "stream",
     "text": [
      "You win this round!\n",
      "Your score: 3, Computer's score: 2\n",
      "\n",
      "Congratulations! You win the game!\n"
     ]
    }
   ],
   "source": [
    "import random\n",
    "\n",
    "def play_game():\n",
    "    player_score = 0\n",
    "    computer_score = 0\n",
    "\n",
    "    while player_score < 3 and computer_score < 3:\n",
    "        print(\"Let's play Paper, Scissors, Rock!\")\n",
    "        print(\"Choose one: (1) Paper, (2) Scissors, (3) Rock\")\n",
    "\n",
    "        player_choice = int(input(\"Enter your choice (1/2/3): \"))\n",
    "        computer_choice = random.randint(1, 3)\n",
    "\n",
    "        if player_choice == computer_choice:\n",
    "            print(\"It's a tie!\")\n",
    "        elif (player_choice == 1 and computer_choice == 3) or \\\n",
    "             (player_choice == 2 and computer_choice == 1) or \\\n",
    "             (player_choice == 3 and computer_choice == 2):\n",
    "            print(\"You win this round!\")\n",
    "            player_score += 1\n",
    "        else:\n",
    "            print(\"Computer wins this round!\")\n",
    "            computer_score += 1\n",
    "\n",
    "        print(f\"Your score: {player_score}, Computer's score: {computer_score}\\n\")\n",
    "\n",
    "    if player_score > computer_score:\n",
    "        print(\"Congratulations! You win the game!\")\n",
    "    else:\n",
    "        print(\"Computer wins the game. Better luck next time!\")\n",
    "\n",
    "if __name__ == \"__main__\":\n",
    "    play_game()\n"
   ]
  },
  {
   "cell_type": "code",
   "execution_count": null,
   "id": "a15d768e-ef36-436c-bf44-8597145fd894",
   "metadata": {},
   "outputs": [],
   "source": []
  }
 ],
 "metadata": {
  "kernelspec": {
   "display_name": "Python 3 (ipykernel)",
   "language": "python",
   "name": "python3"
  },
  "language_info": {
   "codemirror_mode": {
    "name": "ipython",
    "version": 3
   },
   "file_extension": ".py",
   "mimetype": "text/x-python",
   "name": "python",
   "nbconvert_exporter": "python",
   "pygments_lexer": "ipython3",
   "version": "3.12.0"
  }
 },
 "nbformat": 4,
 "nbformat_minor": 5
}
