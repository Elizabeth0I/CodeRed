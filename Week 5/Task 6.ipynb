{
 "cells": [
  {
   "cell_type": "code",
   "execution_count": null,
   "id": "10c6a355-57c9-4a7b-9521-8ff637ed1a1e",
   "metadata": {},
   "outputs": [
    {
     "name": "stdout",
     "output_type": "stream",
     "text": [
      "Welcome to the Guessing Game! Try to find all the hidden eggs on the board.\n",
      "\n",
      "Total guesses: 0\n",
      ". . . . .\n",
      ". . . O .\n",
      "O . . . .\n",
      "O O O . O\n",
      ". . . O .\n"
     ]
    },
    {
     "name": "stdin",
     "output_type": "stream",
     "text": [
      "Your next guess (e.g., B2):  C3\n"
     ]
    },
    {
     "name": "stdout",
     "output_type": "stream",
     "text": [
      "Oops! You missed the egg.\n",
      "\n",
      "Total guesses: 1\n",
      ". . . . .\n",
      ". . . O .\n",
      "O . . . .\n",
      "O O O . O\n",
      ". . . O .\n"
     ]
    },
    {
     "name": "stdin",
     "output_type": "stream",
     "text": [
      "Your next guess (e.g., B2):  D5\n"
     ]
    },
    {
     "name": "stdout",
     "output_type": "stream",
     "text": [
      "Congratulations! You found an egg!\n",
      "\n",
      "Total guesses: 2\n",
      ". . . . .\n",
      ". . . O .\n",
      "O . . . .\n",
      "O O O . O\n",
      ". . . O .\n"
     ]
    }
   ],
   "source": [
    "import random\n",
    "\n",
    "def initialize_board(size):\n",
    "    return [['.' for _ in range(size)] for _ in range(size)]\n",
    "\n",
    "def place_eggs(board, num_eggs):\n",
    "    size = len(board)\n",
    "    for _ in range(num_eggs):\n",
    "        board[random.randint(0, size - 1)][random.randint(0, size - 1)] = 'O'\n",
    "    return board\n",
    "\n",
    "def print_board(board):\n",
    "    for row in board:\n",
    "        print(' '.join(row))\n",
    "\n",
    "def play_game(size, num_eggs):\n",
    "    board = place_eggs(initialize_board(size), num_eggs)\n",
    "    total_guesses = 0\n",
    "    misses = 0\n",
    "    guessed_fields = set()\n",
    "\n",
    "    print(\"Welcome to the Guessing Game! Try to find all the hidden eggs on the board.\")\n",
    "\n",
    "    while True:\n",
    "        print(\"\\nTotal guesses:\", total_guesses)\n",
    "        print_board(board)\n",
    "\n",
    "        guess = input(\"Your next guess (e.g., B2): \").upper()\n",
    "\n",
    "        if guess in guessed_fields:\n",
    "            print(\"You've already tried this field. Try another one.\")\n",
    "            continue\n",
    "\n",
    "        guessed_fields.add(guess)\n",
    "\n",
    "        row, col = ord(guess[0]) - 65, int(guess[1:]) - 1\n",
    "\n",
    "        if board[row][col] == 'O':\n",
    "            print(\"Congratulations! You found an egg!\")\n",
    "        else:\n",
    "            print(\"Oops! You missed the egg.\")\n",
    "            misses += 1\n",
    "\n",
    "        total_guesses += 1\n",
    "\n",
    "        if total_guesses >= size * size:\n",
    "            print(\"You've tried all the fields. Game over!\")\n",
    "            break\n",
    "\n",
    "        if sum(row.count('O') for row in board) == num_eggs:\n",
    "            print(\"Congratulations! You found all the eggs!\")\n",
    "            break\n",
    "\n",
    "    print(\"Total misses:\", misses)\n",
    "    print(\"Best result:\", size * size - misses)\n",
    "\n",
    "play_game(5, 10)\n"
   ]
  },
  {
   "cell_type": "code",
   "execution_count": null,
   "id": "c3648a60-7aec-4027-9f69-7e129ecd033e",
   "metadata": {},
   "outputs": [],
   "source": []
  }
 ],
 "metadata": {
  "kernelspec": {
   "display_name": "Python 3 (ipykernel)",
   "language": "python",
   "name": "python3"
  },
  "language_info": {
   "codemirror_mode": {
    "name": "ipython",
    "version": 3
   },
   "file_extension": ".py",
   "mimetype": "text/x-python",
   "name": "python",
   "nbconvert_exporter": "python",
   "pygments_lexer": "ipython3",
   "version": "3.12.0"
  }
 },
 "nbformat": 4,
 "nbformat_minor": 5
}
