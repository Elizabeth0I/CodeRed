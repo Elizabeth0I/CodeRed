{
 "cells": [
  {
   "cell_type": "code",
   "execution_count": 12,
   "id": "1d1c9941-c072-4e2c-92df-4e50dabec97e",
   "metadata": {},
   "outputs": [
    {
     "name": "stdout",
     "output_type": "stream",
     "text": [
      "4\n",
      "2\n",
      "0\n",
      "3\n",
      "5\n",
      "0\n",
      "0\n",
      "2\n"
     ]
    }
   ],
   "source": [
    "def count_vowels(word):\n",
    "    vowels = {'a', 'e', 'i', 'o', 'u'}\n",
    "    count = 0\n",
    "    for char in word:\n",
    "        if char in vowels:\n",
    "            count += 1\n",
    "    return count\n",
    "\n",
    "# Testing the function\n",
    "print(count_vowels('inception'))\n",
    "print(count_vowels('matrix'))\n",
    "print(count_vowels('crypt'))\n",
    "print(count_vowels('vannessa'))\n",
    "print(count_vowels('Equilibrium'))\n",
    "print(count_vowels('Syzygy'))\n",
    "print(count_vowels('gypsy'))\n",
    "print(count_vowels('vowels'))"
   ]
  },
  {
   "cell_type": "code",
   "execution_count": null,
   "id": "764ba5c6-7dac-4d1b-ab22-729f4f6873f0",
   "metadata": {},
   "outputs": [],
   "source": []
  }
 ],
 "metadata": {
  "kernelspec": {
   "display_name": "Python 3 (ipykernel)",
   "language": "python",
   "name": "python3"
  },
  "language_info": {
   "codemirror_mode": {
    "name": "ipython",
    "version": 3
   },
   "file_extension": ".py",
   "mimetype": "text/x-python",
   "name": "python",
   "nbconvert_exporter": "python",
   "pygments_lexer": "ipython3",
   "version": "3.12.0"
  }
 },
 "nbformat": 4,
 "nbformat_minor": 5
}
