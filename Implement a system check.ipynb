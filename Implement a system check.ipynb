{
 "cells": [
  {
   "cell_type": "code",
   "execution_count": null,
   "id": "20a321b9-1cf5-49c5-9989-81abb58d3304",
   "metadata": {},
   "outputs": [],
   "source": []
  },
  {
   "cell_type": "code",
   "execution_count": 1,
   "id": "7d9245bc-ce48-4e5a-9c3a-a13f0ef6eb67",
   "metadata": {},
   "outputs": [
    {
     "name": "stdin",
     "output_type": "stream",
     "text": [
      "Enter your name (no numbers, max 15 characters):  Elka\n",
      "Enter your email address:  Elka_@ubs.com\n"
     ]
    },
    {
     "name": "stdout",
     "output_type": "stream",
     "text": [
      "Email address must start with the username. Please try again.\n"
     ]
    },
    {
     "name": "stdin",
     "output_type": "stream",
     "text": [
      "Enter your name (no numbers, max 15 characters):  Elka\n",
      "Enter your email address:  Elka._@ubs.com\n"
     ]
    },
    {
     "name": "stdout",
     "output_type": "stream",
     "text": [
      "Email address must start with the username. Please try again.\n"
     ]
    },
    {
     "name": "stdin",
     "output_type": "stream",
     "text": [
      "Enter your name (no numbers, max 15 characters):  Elka\n",
      "Enter your email address:  Elka.isibor_@ubs.com\n"
     ]
    },
    {
     "name": "stdout",
     "output_type": "stream",
     "text": [
      "Email address must start with the username. Please try again.\n"
     ]
    },
    {
     "name": "stdin",
     "output_type": "stream",
     "text": [
      "Enter your name (no numbers, max 15 characters):  Ella\n",
      "Enter your email address:  ella_@ubs.com\n"
     ]
    },
    {
     "name": "stdout",
     "output_type": "stream",
     "text": [
      "User name and email address accepted!!!!\n"
     ]
    }
   ],
   "source": [
    "while True:\n",
    "    name = input(\"Enter your name (no numbers, max 15 characters): \")\n",
    "    email = input(\"Enter your email address: \")\n",
    " \n",
    "    if any(char.isdigit() for char in name):\n",
    "        print(\"Name cannot contain numbers. Please try again.\")\n",
    "        continue\n",
    "    if len(name) > 15:\n",
    "        print(\"Name cannot exceed 15 characters. Please try again.\")\n",
    "        continue\n",
    "    if not email.startswith(name.lower()):\n",
    "        print(\"Email address must start with the username. Please try again.\")\n",
    "        continue\n",
    "    if not email.endswith(\"@ubs.com\"):\n",
    "        print(\"Email address must end with '@ubs.com'. Please try again.\")\n",
    "        continue\n",
    "    if not '_' in email:\n",
    "        print(\"Email address must include an underscore character. Please try again.\")\n",
    "        continue\n",
    "    if ' ' in email.strip():\n",
    "        print(\"Email address cannot contain any whitespaces. Please try again.\")\n",
    "        continue\n",
    "\n",
    "    # If all checks pass, break out of the loop\n",
    "    break\n",
    "\n",
    "print(\"User name and email address accepted!!!!\")"
   ]
  },
  {
   "cell_type": "code",
   "execution_count": null,
   "id": "c1eb4f06-ee4b-4551-b69a-5d306875a627",
   "metadata": {},
   "outputs": [],
   "source": [
    "#why is there a case sensitivity in the inputs i.e Elka"
   ]
  }
 ],
 "metadata": {
  "kernelspec": {
   "display_name": "Python 3 (ipykernel)",
   "language": "python",
   "name": "python3"
  },
  "language_info": {
   "codemirror_mode": {
    "name": "ipython",
    "version": 3
   },
   "file_extension": ".py",
   "mimetype": "text/x-python",
   "name": "python",
   "nbconvert_exporter": "python",
   "pygments_lexer": "ipython3",
   "version": "3.12.0"
  }
 },
 "nbformat": 4,
 "nbformat_minor": 5
}
